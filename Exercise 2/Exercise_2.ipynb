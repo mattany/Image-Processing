{
 "cells": [
  {
   "cell_type": "markdown",
   "metadata": {},
   "source": [
    "## Exercise 2\n",
    "### Question 1"
   ]
  },
  {
   "cell_type": "code",
   "execution_count": null,
   "metadata": {},
   "outputs": [],
   "source": [
    "import numpy as np\n",
    "import cv2\n",
    "import sys\n",
    "import os"
   ]
  },
  {
   "cell_type": "code",
   "execution_count": null,
   "metadata": {},
   "outputs": [],
   "source": [
    "filter = [\n",
    "    [-1, -1, -1],\n",
    "    [-1, 8, -1],\n",
    "    [-1, -1, -1]\n",
    "]"
   ]
  },
  {
   "cell_type": "code",
   "execution_count": null,
   "metadata": {},
   "outputs": [],
   "source": [
    "def apply_filter(mat, filter):\n",
    "    # convert the matrix to float\n",
    "    mat = mat.astype(np.float)\n",
    "\n",
    "    # construct sub matrices for convolution\n",
    "    view_shape = tuple(np.subtract(mat.shape, filter.shape) + 1) + filter.shape\n",
    "    strides = mat.strides + mat.strides\n",
    "    sub_matrices = np.lib.stride_tricks.as_strided(mat, view_shape, strides)\n",
    "\n",
    "    # convolve\n",
    "    mat = np.einsum('ij,klij->kl', filter, sub_matrices)\n",
    "\n",
    "    # clip out of bound values\n",
    "    v_clip = np.vectorize(clip)\n",
    "    mat = v_clip(mat)\n",
    "\n",
    "    return mat.astype(np.uint8)\n"
   ]
  },
  {
   "cell_type": "markdown",
   "metadata": {},
   "source": [
    "The clipping function ensures that we stay in bounds:"
   ]
  },
  {
   "cell_type": "code",
   "execution_count": null,
   "metadata": {},
   "outputs": [],
   "source": [
    "def clip(new_value):\n",
    "    if new_value > 255:\n",
    "        new_value = 255\n",
    "    elif new_value < 0:\n",
    "        new_value = 0\n",
    "    return new_value"
   ]
  },
  {
   "cell_type": "code",
   "execution_count": null,
   "metadata": {},
   "outputs": [],
   "source": [
    "image_path = \"lena.jpg\""
   ]
  },
  {
   "cell_type": "markdown",
   "metadata": {},
   "source": [
    "We proceed to read the image and apply the filter:"
   ]
  },
  {
   "cell_type": "code",
   "execution_count": null,
   "metadata": {},
   "outputs": [],
   "source": [
    "img = cv2.imread(image_path, cv2.IMREAD_GRAYSCALE)\n",
    "img = apply_filter(img, np.asarray(filter))\n",
    "filtered = f\"filtered_{image_path.split('.')[0]}.png\"\n",
    "cv2.imwrite(filtered, img)"
   ]
  },
  {
   "cell_type": "markdown",
   "metadata": {},
   "source": [
    "And display the filtered image:"
   ]
  },
  {
   "cell_type": "code",
   "execution_count": null,
   "metadata": {},
   "outputs": [],
   "source": [
    "from IPython.display import Image \n",
    "display(Image(filename=filtered))"
   ]
  },
  {
   "cell_type": "markdown",
   "metadata": {},
   "source": [
    "As we can see, this filter is used to detect edges."
   ]
  }
 ],
 "metadata": {
  "kernelspec": {
   "display_name": "Python 3",
   "language": "python",
   "name": "python3"
  },
  "language_info": {
   "codemirror_mode": {
    "name": "ipython",
    "version": 3
   },
   "file_extension": ".py",
   "mimetype": "text/x-python",
   "name": "python",
   "nbconvert_exporter": "python",
   "pygments_lexer": "ipython3",
   "version": "3.8.5"
  }
 },
 "nbformat": 4,
 "nbformat_minor": 4
}
